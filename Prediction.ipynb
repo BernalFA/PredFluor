{
 "cells": [
  {
   "cell_type": "code",
   "execution_count": 1,
   "metadata": {},
   "outputs": [],
   "source": [
    "%load_ext autoreload\n",
    "%autoreload 2"
   ]
  },
  {
   "cell_type": "code",
   "execution_count": 2,
   "metadata": {},
   "outputs": [],
   "source": [
    "from predfluor.utils import predict_fluorescence"
   ]
  },
  {
   "cell_type": "code",
   "execution_count": 3,
   "metadata": {},
   "outputs": [
    {
     "name": "stdout",
     "output_type": "stream",
     "text": [
      "Chromophore: Cc1c(cc(cc1[N+](=O)[O-])[N+](=O)[O-])[N+](=O)[O-]\n",
      "Solvent: O\n",
      "Predicted Wavelength (Wl): 504.9753545898544 nm\n",
      "Predicted Quantum Yield (QY): 0.10117631045365744\n"
     ]
    },
    {
     "name": "stderr",
     "output_type": "stream",
     "text": [
      "/home/freddy/miniconda3/envs/predfluor/lib/python3.9/site-packages/sklearn/base.py:376: InconsistentVersionWarning: Trying to unpickle estimator StandardScaler from version 1.5.2 when using version 1.4.1.post1. This might lead to breaking code or invalid results. Use at your own risk. For more info please refer to:\n",
      "https://scikit-learn.org/stable/model_persistence.html#security-maintainability-limitations\n",
      "  warnings.warn(\n",
      "[16:00:47] DEPRECATION WARNING: please use MorganGenerator\n",
      "[16:00:47] DEPRECATION WARNING: please use MorganGenerator\n"
     ]
    }
   ],
   "source": [
    "Chromophore = \"Cc1c(cc(cc1[N+](=O)[O-])[N+](=O)[O-])[N+](=O)[O-]\"\n",
    "Solvent = \"O\"\n",
    "\n",
    "predicted_wl, predicted_qy = predict_fluorescence(Chromophore, Solvent)\n",
    "\n",
    "print(\"Chromophore:\", Chromophore)\n",
    "print(\"Solvent:\", Solvent)\n",
    "print(\"Predicted Wavelength (Wl):\", predicted_wl, \"nm\")\n",
    "print(\"Predicted Quantum Yield (QY):\", predicted_qy)"
   ]
  },
  {
   "cell_type": "code",
   "execution_count": 4,
   "metadata": {},
   "outputs": [
    {
     "name": "stdout",
     "output_type": "stream",
     "text": [
      "Chromophore: c2ccc(CNc1ccccc1)cc2\n",
      "Solvent: C1CCCCC1\n",
      "Predicted Wavelength (Wl): 341.74224081474085 nm\n",
      "Predicted Quantum Yield (QY): 0.2636728921794872\n"
     ]
    },
    {
     "name": "stderr",
     "output_type": "stream",
     "text": [
      "/home/freddy/miniconda3/envs/predfluor/lib/python3.9/site-packages/sklearn/base.py:376: InconsistentVersionWarning: Trying to unpickle estimator StandardScaler from version 1.5.2 when using version 1.4.1.post1. This might lead to breaking code or invalid results. Use at your own risk. For more info please refer to:\n",
      "https://scikit-learn.org/stable/model_persistence.html#security-maintainability-limitations\n",
      "  warnings.warn(\n",
      "[16:00:49] DEPRECATION WARNING: please use MorganGenerator\n",
      "[16:00:49] DEPRECATION WARNING: please use MorganGenerator\n"
     ]
    }
   ],
   "source": [
    "Chromophore = \"c2ccc(CNc1ccccc1)cc2\"\n",
    "Solvent = \"C1CCCCC1\"\n",
    "\n",
    "predicted_wl, predicted_qy = predict_fluorescence(Chromophore, Solvent)\n",
    "\n",
    "print(\"Chromophore:\", Chromophore)\n",
    "print(\"Solvent:\", Solvent)\n",
    "print(\"Predicted Wavelength (Wl):\", predicted_wl, \"nm\")\n",
    "print(\"Predicted Quantum Yield (QY):\", predicted_qy)"
   ]
  },
  {
   "cell_type": "code",
   "execution_count": null,
   "metadata": {},
   "outputs": [],
   "source": []
  }
 ],
 "metadata": {
  "kernelspec": {
   "display_name": "predfluor",
   "language": "python",
   "name": "python3"
  },
  "language_info": {
   "codemirror_mode": {
    "name": "ipython",
    "version": 3
   },
   "file_extension": ".py",
   "mimetype": "text/x-python",
   "name": "python",
   "nbconvert_exporter": "python",
   "pygments_lexer": "ipython3",
   "version": "3.9.21"
  }
 },
 "nbformat": 4,
 "nbformat_minor": 2
}
